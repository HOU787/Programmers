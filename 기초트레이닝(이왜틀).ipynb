{
 "cells": [
  {
   "cell_type": "markdown",
   "id": "bb11248f",
   "metadata": {},
   "source": [
    "### 문자열 묶기\n",
    "함수(메서드)"
   ]
  },
  {
   "cell_type": "code",
   "execution_count": null,
   "id": "88e2ea6d",
   "metadata": {},
   "outputs": [],
   "source": [
    "def solution(strArr):\n",
    "    \n",
    "    temp = [0]*len(strArr)\n",
    "    \n",
    "    for i in strArr:\n",
    "        temp[len(i)] += 1\n",
    "    \n",
    "    return max(temp)"
   ]
  },
  {
   "cell_type": "markdown",
   "id": "03574d69",
   "metadata": {},
   "source": [
    "### 정수를 나선형으로 배치하기\n",
    "이차원 리스트(배열)"
   ]
  },
  {
   "cell_type": "code",
   "execution_count": null,
   "id": "e2502265",
   "metadata": {},
   "outputs": [],
   "source": [
    "def solution(n):\n",
    "    \n",
    "    # 배열 크기 생성\n",
    "    arr = [[0]*n for _ in range(n)]\n",
    "    # 초기 x,y 좌표\n",
    "    x, y = 0, 0\n",
    "    # 진행방향 idx\n",
    "    direction = 0\n",
    "    # 진행방향 (R,U,L,D 순으로)\n",
    "    dx = [1,0,-1,0]\n",
    "    dy = [0,1,0,-1]\n",
    "\n",
    "    for i in range(1,(n*n)+1):\n",
    "        \n",
    "        arr[y][x] = i\n",
    "        \n",
    "        # 이동할 다음좌표\n",
    "        nx = x + dx[direction]\n",
    "        ny = y + dy[direction]\n",
    "        \n",
    "        # 다음 좌표가 0보다 작거나, n-1 보다 크거나, 값이 있을 경우\n",
    "        if nx < 0 or nx >= n or ny < 0 or ny >= n or arr[ny][nx] != 0:\n",
    "            \n",
    "            # 다음 진행방향 수정 (0,1,2,3,0,1,2,3)\n",
    "            direction = (direction+1)%4\n",
    "            \n",
    "            # 진행방향 수정에 따른 다음좌표\n",
    "            nx = x + dx[direction]\n",
    "            ny = y + dy[direction]\n",
    "            \n",
    "        # 다음 진행방향\n",
    "        x = nx\n",
    "        y = ny\n",
    "        \n",
    "    return arr"
   ]
  },
  {
   "cell_type": "markdown",
   "id": "7682788d",
   "metadata": {},
   "source": [
    "### 주사위 게임 3\n",
    "조건문"
   ]
  },
  {
   "cell_type": "code",
   "execution_count": 1,
   "id": "0510fda9",
   "metadata": {
    "ExecuteTime": {
     "end_time": "2024-03-05T23:52:06.009237Z",
     "start_time": "2024-03-05T23:52:05.991885Z"
    }
   },
   "outputs": [],
   "source": [
    "def solution(a, b, c, d):\n",
    "    li = [a,b,c,d]\n",
    "    mx, mi = max(li), min(li)\n",
    "    xcnt, icnt = li.count(mx), li.count(mi)\n",
    "    \n",
    "    # 전부 같을 경우\n",
    "    if xcnt == 4 and icnt == 4:\n",
    "        return mx*1111\n",
    "    \n",
    "    # 전부 다를 경우\n",
    "    elif a != b  and a != c and a != d and b != c and b != d and c != d :\n",
    "        return mi\n",
    "    \n",
    "    # 3개의 같은 수가 나올 경우\n",
    "    elif xcnt == 3 or icnt == 3:\n",
    "        if xcnt == 3:\n",
    "            return (10*mx+mi)**2\n",
    "        else:\n",
    "            return (10*mi+mx)**2\n",
    "    \n",
    "    # 두개씩 같은 값이 나올경우\n",
    "    elif xcnt == 2 and icnt == 2:\n",
    "        return (mx+mi)*(mx-mi)\n",
    "    \n",
    "    # 두 주사위는 숫자가 같고 나머지 두 주사위는 다른경우\n",
    "    else:\n",
    "        temp = []\n",
    "        \n",
    "        for i in li:\n",
    "            if li.count(i) == 1:\n",
    "                temp.append(i)\n",
    "        \n",
    "        return temp[0]*temp[1]"
   ]
  },
  {
   "cell_type": "markdown",
   "id": "b5755d00",
   "metadata": {},
   "source": [
    "### 코드 처리하기\n",
    "조건문"
   ]
  },
  {
   "cell_type": "code",
   "execution_count": null,
   "id": "c7b7fe07",
   "metadata": {},
   "outputs": [],
   "source": [
    "def solution(code):\n",
    "    mode = 0\n",
    "    ret = ''\n",
    "    \n",
    "    for i in range(len(code)):\n",
    "        # mode == 0\n",
    "        if mode == 0:\n",
    "            if code[i] != \"1\":\n",
    "                if i%2 == 0:\n",
    "                    ret += code[i]\n",
    "                    \n",
    "            elif code[i] == \"1\":\n",
    "                mode = 1\n",
    "                    \n",
    "        # mode == 1\n",
    "        elif mode == 1:\n",
    "            if code[i] != \"1\":\n",
    "                if i%2 == 1:\n",
    "                    ret += code[i]\n",
    "                    \n",
    "            elif code[i] == \"1\":\n",
    "                mode = 0\n",
    "    \n",
    "    return ret if ret != \"\" else \"EMPTY\" "
   ]
  },
  {
   "cell_type": "markdown",
   "id": "63e26815",
   "metadata": {},
   "source": [
    "#### 극한의 효율;"
   ]
  },
  {
   "cell_type": "code",
   "execution_count": 2,
   "id": "a2e8d4aa",
   "metadata": {
    "ExecuteTime": {
     "end_time": "2024-03-05T23:57:14.601206Z",
     "start_time": "2024-03-05T23:57:14.596762Z"
    }
   },
   "outputs": [],
   "source": [
    "def solution(code):\n",
    "    return \"\".join(code.split(\"1\"))[::2] or \"EMPTY\""
   ]
  },
  {
   "cell_type": "markdown",
   "id": "bed9061b",
   "metadata": {},
   "source": [
    "### 배열 만들기 2\n",
    "반복문"
   ]
  },
  {
   "cell_type": "code",
   "execution_count": null,
   "id": "75856186",
   "metadata": {},
   "outputs": [],
   "source": [
    "def solution(l, r):\n",
    "    cnt = 0\n",
    "    arr = []\n",
    "    \n",
    "    while True:\n",
    "        cnt += 1\n",
    "        n = int(bin(cnt)[2:])*5\n",
    "        \n",
    "        if l <= n and n <= r:\n",
    "            arr.append(n)\n",
    "        elif n > r:\n",
    "            break\n",
    "    \n",
    "    return arr if arr != [] else [-1]"
   ]
  },
  {
   "cell_type": "markdown",
   "id": "719c4d20",
   "metadata": {},
   "source": [
    "### 전국 대회 선발 고사\n",
    "함수(메서드)"
   ]
  },
  {
   "cell_type": "code",
   "execution_count": null,
   "id": "705c9ff4",
   "metadata": {},
   "outputs": [],
   "source": [
    "def solution(rank, attendance):\n",
    "    temp = []\n",
    "    idx = []\n",
    "    answer = []\n",
    "    \n",
    "    for i in range(len(rank)):\n",
    "        if attendance[i]:\n",
    "            temp.append(rank[i])\n",
    "            idx.append(rank.index(rank[i]))\n",
    "            \n",
    "    for j in range(3):\n",
    "        num = temp.index(min(temp))\n",
    "        \n",
    "        answer.append(idx[num])\n",
    "        \n",
    "        idx.remove(idx[num])\n",
    "        temp.remove(temp[num])\n",
    "        \n",
    "    \n",
    "    return 10000 * answer[0] + 100 * answer[1] + answer[2]"
   ]
  }
 ],
 "metadata": {
  "kernelspec": {
   "display_name": "Python 3 (ipykernel)",
   "language": "python",
   "name": "python3"
  },
  "language_info": {
   "codemirror_mode": {
    "name": "ipython",
    "version": 3
   },
   "file_extension": ".py",
   "mimetype": "text/x-python",
   "name": "python",
   "nbconvert_exporter": "python",
   "pygments_lexer": "ipython3",
   "version": "3.11.3"
  },
  "toc": {
   "base_numbering": 1,
   "nav_menu": {},
   "number_sections": true,
   "sideBar": true,
   "skip_h1_title": false,
   "title_cell": "Table of Contents",
   "title_sidebar": "Contents",
   "toc_cell": false,
   "toc_position": {},
   "toc_section_display": true,
   "toc_window_display": false
  }
 },
 "nbformat": 4,
 "nbformat_minor": 5
}
