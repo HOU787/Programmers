{
 "cells": [
  {
   "cell_type": "markdown",
   "id": "9561c562",
   "metadata": {},
   "source": [
    "### 문자열로 변환\n",
    "함수(메서드)\n",
    "#### 문제 설명\n",
    "정수 n이 주어질 때, n을 문자열로 변환하여 return하도록 solution 함수를 완성해주세요.\n",
    "#### 제한사항\n",
    "- 1 ≤ n ≤ 10000"
   ]
  },
  {
   "cell_type": "code",
   "execution_count": null,
   "id": "b6fdf236",
   "metadata": {},
   "outputs": [],
   "source": [
    "def solution(n):\n",
    "    return str(n)"
   ]
  },
  {
   "cell_type": "markdown",
   "id": "dba3e48c",
   "metadata": {},
   "source": [
    "### n 번째 원소까지\n",
    "리스트(배열)\n",
    "#### 문제 설명\n",
    "정수 리스트 num_list와 정수 n이 주어질 때, num_list의 첫 번째 원소부터 n 번째 원소까지의 모든 원소를 담은 리스트를 return하도록 solution 함수를 완성해주세요.\n",
    "#### 제한사항\n",
    "- 2 ≤ num_list의 길이 ≤ 30\n",
    "- 1 ≤ num_list의 원소 ≤ 9\n",
    "- 1 ≤ n ≤ num_list의 길이 ___"
   ]
  },
  {
   "cell_type": "code",
   "execution_count": null,
   "id": "5af80ace",
   "metadata": {},
   "outputs": [],
   "source": [
    "def solution(num_list, n):\n",
    "    return num_list[:n]"
   ]
  },
  {
   "cell_type": "markdown",
   "id": "5e37bf68",
   "metadata": {},
   "source": [
    "### 길이에 따른 연산\n",
    "리스트(배열)\n",
    "#### 문제 설명\n",
    "정수가 담긴 리스트 num_list가 주어질 때, 리스트의 길이가 11 이상이면 리스트에 있는 모든 원소의 합을 10 이하이면 모든 원소의 곱을 return하도록 solution 함수를 완성해주세요.\n",
    "#### 제한사항\n",
    "2 ≤ num_list의 길이 ≤ 20\n",
    "1 ≤ num_list의 원소 ≤ 9\n",
    "num_list의 원소를 모두 곱했을 때 2,147,483,647를 넘는 입력은 주어지지 않습니다."
   ]
  },
  {
   "cell_type": "code",
   "execution_count": null,
   "id": "0395fbbd",
   "metadata": {},
   "outputs": [],
   "source": [
    "def solution(num_list):\n",
    "    \n",
    "    answer = 1\n",
    "    \n",
    "    if len(num_list) >= 11:\n",
    "        answer = sum(num_list) \n",
    "        \n",
    "    else:\n",
    "        for i in num_list:\n",
    "            answer *= i\n",
    "    \n",
    "    return answer"
   ]
  },
  {
   "cell_type": "markdown",
   "id": "06dea6ce",
   "metadata": {},
   "source": [
    "### 원소들의 곱과 합\n",
    "조건문\n",
    "#### 문제 설명\n",
    "정수가 담긴 리스트 num_list가 주어질 때, 모든 원소들의 곱이 모든 원소들의 합의 제곱보다 작으면 1을 크면 0을 return하도록 solution 함수를 완성해주세요.\n",
    "#### 제한사항\n",
    "2 ≤ num_list의 길이 ≤ 10\n",
    "1 ≤ num_list의 원소 ≤ 9\n"
   ]
  },
  {
   "cell_type": "code",
   "execution_count": null,
   "id": "a1173a24",
   "metadata": {},
   "outputs": [],
   "source": [
    "def solution(num_list):\n",
    "    \n",
    "    multi = num_list[0]\n",
    "    hap_square = 0\n",
    "    \n",
    "    for i in range(1,len(num_list)):\n",
    "        multi *= num_list[i]\n",
    "        \n",
    "    hap_square = sum(num_list)**2\n",
    "    \n",
    "    if (hap_square > multi):\n",
    "        answer = 1\n",
    "    else:\n",
    "        answer = 0\n",
    "    \n",
    "    return answer"
   ]
  },
  {
   "cell_type": "markdown",
   "id": "34554d2e",
   "metadata": {},
   "source": [
    "### 조건에 맞게 수열 변환하기 3\n",
    "반복문 활용\n",
    "#### 문제 설명\n",
    "정수 배열 arr와 자연수 k가 주어집니다.\n",
    "\n",
    "만약 k가 홀수라면 arr의 모든 원소에 k를 곱하고, k가 짝수라면 arr의 모든 원소에 k를 더합니다.\n",
    "\n",
    "이러한 변환을 마친 후의 arr를 return 하는 solution 함수를 완성해 주세요.\n",
    "#### 제한사항\n",
    "1 ≤ arr의 길이 ≤ 1,000,000\n",
    "1 ≤ arr의 원소의 값 ≤ 100\n",
    "1 ≤ k ≤ 100"
   ]
  },
  {
   "cell_type": "code",
   "execution_count": null,
   "id": "b7274ad2",
   "metadata": {},
   "outputs": [],
   "source": [
    "def solution(arr, k):\n",
    "    if k%2 == 1:\n",
    "        answer = list(map(lambda x : x*k, arr))\n",
    "    else:\n",
    "        answer = list(map(lambda x : x+k, arr))\n",
    "    return answer"
   ]
  },
  {
   "cell_type": "markdown",
   "id": "5bca5097",
   "metadata": {},
   "source": [
    "### 문자열의 앞의 n글자\n",
    "문자열\n",
    "#### 문제 설명\n",
    "문자열 my_string과 정수 n이 매개변수로 주어질 때, my_string의 앞의 n글자로 이루어진 문자열을 return 하는 solution 함수를 작성해 주세요.\n",
    "#### 제한사항\n",
    "my_string은 숫자와 알파벳으로 이루어져 있습니다.\n",
    "1 ≤ my_string의 길이 ≤ 1,000\n",
    "1 ≤ n ≤ my_string의 길이"
   ]
  },
  {
   "cell_type": "code",
   "execution_count": null,
   "id": "49e66778",
   "metadata": {},
   "outputs": [],
   "source": [
    "def solution(my_string, n):\n",
    "    return my_string[:n]"
   ]
  },
  {
   "cell_type": "markdown",
   "id": "fa3dca6e",
   "metadata": {},
   "source": [
    "### 조건에 맞게 수열 변환하기 1\n",
    "리스트(배열)\n",
    "#### 문제 설명\n",
    "정수 배열 arr가 주어집니다. arr의 각 원소에 대해 값이 50보다 크거나 같은 짝수라면 2로 나누고, 50보다 작은 홀수라면 2를 곱합니다. 그 결과인 정수 배열을 return 하는 solution 함수를 완성해 주세요.\n",
    "#### 제한사항\n",
    "1 ≤ arr의 길이 ≤ 1,000,000\n",
    "- 1 ≤ arr의 원소의 값 ≤ 100"
   ]
  },
  {
   "cell_type": "code",
   "execution_count": null,
   "id": "c77ec137",
   "metadata": {},
   "outputs": [],
   "source": [
    "def solution(arr):\n",
    "    \n",
    "    for i in range(len(arr)):\n",
    "        if (arr[i] >= 50 and arr[i]%2 ==0):\n",
    "            arr[i] //= 2\n",
    "        elif (arr[i] < 50 and arr[i]%2 ==1):\n",
    "            arr[i] *= 2\n",
    "    \n",
    "    return arr"
   ]
  },
  {
   "cell_type": "markdown",
   "id": "ddea0951",
   "metadata": {},
   "source": [
    "### 뒤에서 5등까지\n",
    "함수(메서드)\n",
    "#### 문제 설명\n",
    "정수로 이루어진 리스트 num_list가 주어집니다. num_list에서 가장 작은 5개의 수를 오름차순으로 담은 리스트를 return하도록 solution 함수를 완성해주세요.\n",
    "#### 제한사항\n",
    "6 ≤ num_list의 길이 ≤ 30\n",
    "1 ≤ num_list의 원소 ≤ 100"
   ]
  },
  {
   "cell_type": "code",
   "execution_count": null,
   "id": "795ff239",
   "metadata": {},
   "outputs": [],
   "source": [
    "def solution(num_list):\n",
    "    num_list.sort()\n",
    "    return num_list[:5]"
   ]
  },
  {
   "cell_type": "markdown",
   "id": "9869d3e4",
   "metadata": {},
   "source": [
    "### 배열 만들기 1\n",
    "리스트(배열)\n",
    "#### 문제 설명\n",
    "정수 n과 k가 주어졌을 때, 1 이상 n이하의 정수 중에서 k의 배수를 오름차순으로 저장한 배열을 return 하는 solution 함수를 완성해 주세요.\n",
    "#### 제한사항\n",
    "- 1 ≤ n ≤ 1,000,000\n",
    "- 1 ≤ k ≤ min(1,000, n)"
   ]
  },
  {
   "cell_type": "code",
   "execution_count": null,
   "id": "838f6425",
   "metadata": {},
   "outputs": [],
   "source": [
    "def solution(n, k):\n",
    "    return [ i for i in range(k, n+1, k) ]"
   ]
  },
  {
   "cell_type": "markdown",
   "id": "672c4835",
   "metadata": {},
   "source": [
    "### 뒤에서 5등 위로\n",
    "함수(메서드)\n",
    "#### 문제 설명\n",
    "정수로 이루어진 리스트 num_list가 주어집니다. num_list에서 가장 작은 5개의 수를 제외한 수들을 오름차순으로 담은 리스트를 return하도록 solution 함수를 완성해주세요.\n",
    "#### 제한사항\n",
    "6 ≤ num_list의 길이 ≤ 30\n",
    "1 ≤ num_list의 원소 ≤ 100"
   ]
  },
  {
   "cell_type": "code",
   "execution_count": null,
   "id": "2059ac6f",
   "metadata": {},
   "outputs": [],
   "source": [
    "def solution(num_list):\n",
    "    num_list.sort()\n",
    "    return num_list[5:]"
   ]
  },
  {
   "cell_type": "markdown",
   "id": "098302f3",
   "metadata": {},
   "source": [
    "### 정수 찾기\n",
    "조건문 활용\n",
    "#### 문제 설명\n",
    "정수 리스트 num_list와 찾으려는 정수 n이 주어질 때, num_list안에 n이 있으면 1을 없으면 0을 return하도록 solution 함수를 완성해주세요.\n",
    "#### 제한사항\n",
    "- 3 ≤ num_list의 길이 ≤ 100\n",
    "- 1 ≤ num_list의 원소 ≤ 100\n",
    "- 1 ≤ n ≤ 100"
   ]
  },
  {
   "cell_type": "code",
   "execution_count": null,
   "id": "1831022c",
   "metadata": {},
   "outputs": [],
   "source": [
    "def solution(num_list, n):\n",
    "    return  0 if num_list.count(n) == 0 else 1"
   ]
  },
  {
   "cell_type": "markdown",
   "id": "174b5541",
   "metadata": {},
   "source": [
    "### 배열 비교하기\n",
    "함수(메서드)\n",
    "#### 문제 설명\n",
    "이 문제에서 두 정수 배열의 대소관계를 다음과 같이 정의합니다.\n",
    "\n",
    "- 두 배열의 길이가 다르다면, 배열의 길이가 긴 쪽이 더 큽니다.\n",
    "- 배열의 길이가 같다면 각 배열에 있는 모든 원소의 합을 비교하여 다르다면 더 큰 쪽이 크고, 같다면 같습니다.\n",
    "두 정수 배열 arr1과 arr2가 주어질 때, 위에서 정의한 배열의 대소관계에 대하여 arr2가 크다면 -1, arr1이 크다면 1, 두 배열이 같다면 0을 return 하는 solution 함수를 작성해 주세요.\n",
    "#### 제한사항\n",
    "- 1 ≤ arr1의 길이 ≤ 100\n",
    "- 1 ≤ arr2의 길이 ≤ 100\n",
    "- 1 ≤ arr1의 원소 ≤ 100\n",
    "- 1 ≤ arr2의 원소 ≤ 100\n",
    "- 문제에서 정의한 배열의 대소관계가 일반적인 프로그래밍 언어에서 정의된 배열의 대소관계와 다를 수 있는 점에 유의해주세요."
   ]
  },
  {
   "cell_type": "code",
   "execution_count": null,
   "id": "c9120729",
   "metadata": {},
   "outputs": [],
   "source": [
    "def solution(arr1, arr2):\n",
    "    \n",
    "    if len(arr1) == len(arr2):\n",
    "        if sum(arr1) > sum(arr2):\n",
    "            answer = 1\n",
    "        elif sum(arr1) < sum(arr2):\n",
    "            answer = -1\n",
    "        else:\n",
    "            answer = 0\n",
    "    \n",
    "    elif len(arr1) > len(arr2):\n",
    "        answer = 1\n",
    "    else:\n",
    "        answer = -1\n",
    "    \n",
    "    return answer"
   ]
  },
  {
   "cell_type": "markdown",
   "id": "ad74b554",
   "metadata": {},
   "source": [
    "### 접두사인지 확인하기\n",
    "문자열\n",
    "#### 문제 설명\n",
    "어떤 문자열에 대해서 접두사는 특정 인덱스까지의 문자열을 의미합니다. 예를 들어, \"banana\"의 모든 접두사는 \"b\", \"ba\", \"ban\", \"bana\", \"banan\", \"banana\"입니다.\n",
    "문자열 my_string과 is_prefix가 주어질 때, is_prefix가 my_string의 접두사라면 1을, 아니면 0을 return 하는 solution 함수를 작성해 주세요.\n",
    "#### 제한사항\n",
    "- 1 ≤ my_string의 길이 ≤ 100\n",
    "- 1 ≤ is_prefix의 길이 ≤ 100\n",
    "- my_string과 is_prefix는 영소문자로만 이루어져 있습니다."
   ]
  },
  {
   "cell_type": "code",
   "execution_count": null,
   "id": "d7e51f77",
   "metadata": {},
   "outputs": [],
   "source": [
    "def solution(my_string, is_prefix):\n",
    "    return int(my_string[:len(is_prefix)] == is_prefix)"
   ]
  },
  {
   "cell_type": "markdown",
   "id": "12d0037d",
   "metadata": {},
   "source": [
    "### 수 조작하기 1\n",
    "조건문\n",
    "#### 문제 설명\n",
    "정수 n과 문자열 control이 주어집니다. control은 \"w\", \"a\", \"s\", \"d\"의 4개의 문자로 이루어져 있으며, control의 앞에서부터 순서대로 문자에 따라 n의 값을 바꿉니다.\n",
    "\n",
    "- \"w\" : n이 1 커집니다.\n",
    "- \"s\" : n이 1 작아집니다.\n",
    "- \"d\" : n이 10 커집니다.\n",
    "- \"a\" : n이 10 작아집니다.\n",
    "위 규칙에 따라 n을 바꿨을 때 가장 마지막에 나오는 n의 값을 return 하는 solution 함수를 완성해 주세요.\n",
    "#### 제한사항\n",
    "- 100,000 ≤ n ≤ 100,000\n",
    "- 1 ≤ control의 길이 ≤ 100,000\n",
    "- control은 알파벳 소문자 \"w\", \"a\", \"s\", \"d\"로 이루어진 문자열입니다."
   ]
  },
  {
   "cell_type": "code",
   "execution_count": null,
   "id": "74fb1d0c",
   "metadata": {},
   "outputs": [],
   "source": [
    "def solution(n, control):\n",
    "    \n",
    "    answer = n\n",
    "    \n",
    "    for i in range(len(control)):\n",
    "        if control[i] == \"w\":\n",
    "            answer += 1\n",
    "        elif control[i] == \"s\":\n",
    "            answer -= 1\n",
    "        elif control[i] == \"d\":\n",
    "            answer += 10\n",
    "        elif control[i] == \"a\":\n",
    "            answer -= 10\n",
    "        \n",
    "    return answer"
   ]
  },
  {
   "cell_type": "markdown",
   "id": "e8965480",
   "metadata": {},
   "source": [
    "### 부분 문자열\n",
    "조건문 활용\n",
    "#### 문제 설명\n",
    "어떤 문자열 A가 다른 문자열 B안에 속하면 A를 B의 부분 문자열이라고 합니다. 예를 들어 문자열 \"abc\"는 문자열 \"aabcc\"의 부분 문자열입니다.\n",
    "\n",
    "문자열 str1과 str2가 주어질 때, str1이 str2의 부분 문자열이라면 1을 부분 문자열이 아니라면 0을 return하도록 solution 함수를 완성해주세요.\n",
    "#### 제한 사항\n",
    "- 1 ≤ str1 ≤ str2 ≤ 20\n",
    "- str1과 str2는 영어 소문자로만 이루어져 있습니다."
   ]
  },
  {
   "cell_type": "code",
   "execution_count": null,
   "id": "0c3a247f",
   "metadata": {},
   "outputs": [],
   "source": [
    "def solution(str1, str2):\n",
    "    return int(str1 in str2)"
   ]
  },
  {
   "cell_type": "markdown",
   "id": "5e9708b8",
   "metadata": {},
   "source": [
    "### 접미사인지 확인하기\n",
    "문자열\n",
    "#### 문제 설명\n",
    "어떤 문자열에 대해서 접미사는 특정 인덱스부터 시작하는 문자열을 의미합니다. 예를 들어, \"banana\"의 모든 접미사는 \"banana\", \"anana\", \"nana\", \"ana\", \"na\", \"a\"입니다.\n",
    "문자열 my_string과 is_suffix가 주어질 때, is_suffix가 my_string의 접미사라면 1을, 아니면 0을 return 하는 solution 함수를 작성해 주세요.\n",
    "#### 제한사항\n",
    "- 1 ≤ my_string의 길이 ≤ 100\n",
    "- 1 ≤ is_suffix의 길이 ≤ 100\n",
    "- my_string과 is_suffix는 영소문자로만 이루어져 있습니다."
   ]
  },
  {
   "cell_type": "code",
   "execution_count": null,
   "id": "cee0cbc5",
   "metadata": {},
   "outputs": [],
   "source": [
    "def solution(my_string, is_suffix):\n",
    "    return int(my_string[-len(is_suffix):] == is_suffix)"
   ]
  },
  {
   "cell_type": "markdown",
   "id": "61c7c70e",
   "metadata": {},
   "source": [
    "### 글자 이어 붙여 문자열 만들기\n",
    "문자열\n",
    "#### 문제 설명\n",
    "문자열 my_string과 정수 배열 index_list가 매개변수로 주어집니다. my_string의 index_list의 원소들에 해당하는 인덱스의 글자들을 순서대로 이어 붙인 문자열을 return 하는 solution 함수를 작성해 주세요.\n",
    "#### 제한사항\n",
    "- 1 ≤ my_string의 길이 ≤ 1,000\n",
    "- my_string의 원소는 영소문자로 이루어져 있습니다.\n",
    "- 1 ≤ index_list의 길이 ≤ 1,000\n",
    "- 0 ≤ index_list의 원소 < my_string의 길이"
   ]
  },
  {
   "cell_type": "code",
   "execution_count": null,
   "id": "3fdf1134",
   "metadata": {},
   "outputs": [],
   "source": [
    "def solution(my_string, index_list):\n",
    "    \n",
    "    answer = ''\n",
    "    \n",
    "    for i in index_list:\n",
    "        answer += my_string[i]\n",
    "    \n",
    "    return answer"
   ]
  },
  {
   "cell_type": "markdown",
   "id": "33322d1f",
   "metadata": {},
   "source": [
    "### 원하는 문자열 찾기\n",
    "문자열\n",
    "#### 문제 설명\n",
    "알파벳으로 이루어진 문자열 myString과 pat이 주어집니다. myString의 연속된 부분 문자열 중 pat이 존재하면 1을 그렇지 않으면 0을 return 하는 solution 함수를 완성해 주세요.\n",
    "\n",
    "단, 알파벳 대문자와 소문자는 구분하지 않습니다.\n",
    "#### 제한사항\n",
    "- 1 ≤ myString의 길이 ≤ 100,000\n",
    "- 1 ≤ pat의 길이 ≤ 300\n",
    "- myString과 pat은 모두 알파벳으로 이루어진 문자열입니다."
   ]
  },
  {
   "cell_type": "code",
   "execution_count": null,
   "id": "746ac919",
   "metadata": {},
   "outputs": [],
   "source": [
    "def solution(myString, pat):\n",
    "    return int(pat.lower() in myString.lower())"
   ]
  },
  {
   "cell_type": "markdown",
   "id": "b8067755",
   "metadata": {},
   "source": [
    "### 첫 번째로 나오는 음수\n",
    "리스트(배열)\n",
    "#### 문제 설명\n",
    "정수 리스트 num_list가 주어질 때, 첫 번째로 나오는 음수의 인덱스를 return하도록 solution 함수를 완성해주세요. 음수가 없다면 -1을 return합니다.\n",
    "#### 제한사항\n",
    "- 5 ≤ num_list의 길이 ≤ 100\n",
    "-10 ≤ num_list의 원소 ≤ 100"
   ]
  },
  {
   "cell_type": "code",
   "execution_count": null,
   "id": "5728512c",
   "metadata": {},
   "outputs": [],
   "source": [
    "def solution(num_list):\n",
    "    if min(num_list) > 0:\n",
    "        return -1\n",
    "    else:\n",
    "        \n",
    "        for i in num_list:\n",
    "            if i < 0:\n",
    "                return num_list.index(i)\n",
    "                break"
   ]
  },
  {
   "cell_type": "markdown",
   "id": "d53fe5c4",
   "metadata": {},
   "source": [
    "### 공백으로 구분하기 1\n",
    "문자열\n",
    "#### 문제 설명\n",
    "단어가 공백 한 개로 구분되어 있는 문자열 my_string이 매개변수로 주어질 때, my_string에 나온 단어를 앞에서부터 순서대로 담은 문자열 배열을 return 하는 solution 함수를 작성해 주세요.\n",
    "#### 제한사항\n",
    "- my_string은 영소문자와 공백으로만 이루어져 있습니다.\n",
    "- 1 ≤ my_string의 길이 ≤ 1,000\n",
    "- my_string의 맨 앞과 맨 뒤에 글자는 공백이 아닙니다."
   ]
  },
  {
   "cell_type": "code",
   "execution_count": null,
   "id": "94d52521",
   "metadata": {},
   "outputs": [],
   "source": [
    "def solution(my_string):\n",
    "    return list(my_string.split(\" \"))"
   ]
  }
 ],
 "metadata": {
  "kernelspec": {
   "display_name": "Python 3 (ipykernel)",
   "language": "python",
   "name": "python3"
  },
  "language_info": {
   "codemirror_mode": {
    "name": "ipython",
    "version": 3
   },
   "file_extension": ".py",
   "mimetype": "text/x-python",
   "name": "python",
   "nbconvert_exporter": "python",
   "pygments_lexer": "ipython3",
   "version": "3.11.3"
  },
  "toc": {
   "base_numbering": 1,
   "nav_menu": {},
   "number_sections": true,
   "sideBar": true,
   "skip_h1_title": false,
   "title_cell": "Table of Contents",
   "title_sidebar": "Contents",
   "toc_cell": false,
   "toc_position": {},
   "toc_section_display": true,
   "toc_window_display": false
  }
 },
 "nbformat": 4,
 "nbformat_minor": 5
}
