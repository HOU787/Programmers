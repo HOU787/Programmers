{
 "cells": [
  {
   "cell_type": "markdown",
   "id": "e9734cb7",
   "metadata": {},
   "source": [
    "### 문자열 뒤의 n글자 \n",
    "문자열\n",
    "#### 문제 설명\n",
    "문자열 my_string과 정수 n이 매개변수로 주어질 때, my_string의 뒤의 n글자로 이루어진 문자열을 return 하는 solution 함수를 작성해 주세요.\n",
    "\n",
    "#### 제한사항\n",
    "- my_string은 숫자와 알파벳으로 이루어져 있습니다.\n",
    "- 1 ≤ my_string의 길이 ≤ 1,000\n",
    "- 1 ≤ n ≤ my_string의 길이/n"
   ]
  },
  {
   "cell_type": "code",
   "execution_count": 1,
   "id": "37dbb038",
   "metadata": {
    "ExecuteTime": {
     "end_time": "2024-03-02T14:25:14.194174Z",
     "start_time": "2024-03-02T14:25:14.188917Z"
    }
   },
   "outputs": [],
   "source": [
    "def solution(my_string, n):\n",
    "    return my_string[len(my_string)-n:]"
   ]
  },
  {
   "cell_type": "markdown",
   "id": "9b045ce2",
   "metadata": {},
   "source": [
    "### flag에 따라 다른 값 반환하기 \n",
    "조건문\n",
    "#### 문제 설명\n",
    "두 정수 a, b와 boolean 변수 flag가 매개변수로 주어질 때, flag가 true면 a + b를 false면 a - b를 return 하는 solution 함수를 작성해 주세요.\n",
    "#### 제한사항\n",
    "- 1,000 ≤ a, b ≤ 1,000"
   ]
  },
  {
   "cell_type": "code",
   "execution_count": 2,
   "id": "d6c25744",
   "metadata": {
    "ExecuteTime": {
     "end_time": "2024-03-02T14:25:14.206595Z",
     "start_time": "2024-03-02T14:25:14.195692Z"
    }
   },
   "outputs": [],
   "source": [
    "def solution(a, b, flag):\n",
    "    \n",
    "    if flag:\n",
    "        answer = a+b\n",
    "    else:\n",
    "        answer = a-b\n",
    "    return answer"
   ]
  },
  {
   "cell_type": "markdown",
   "id": "712a1fac",
   "metadata": {},
   "source": [
    "### 정수 부분 \n",
    "함수(메서드)\n",
    "#### 문제 설명\n",
    "실수 flo가 매개 변수로 주어질 때, flo의 정수 부분을 return하도록 solution 함수를 완성해주세요.\n",
    "#### 제한사항\n",
    "- 0 ≤ flo ≤ 100"
   ]
  },
  {
   "cell_type": "code",
   "execution_count": 3,
   "id": "a4cee4f6",
   "metadata": {
    "ExecuteTime": {
     "end_time": "2024-03-02T14:25:14.211206Z",
     "start_time": "2024-03-02T14:25:14.207599Z"
    }
   },
   "outputs": [],
   "source": [
    "def solution(flo):\n",
    "    return int(flo)"
   ]
  },
  {
   "cell_type": "markdown",
   "id": "6d4c6507",
   "metadata": {},
   "source": [
    "### n의 배수\n",
    "연산\n",
    "#### 문제 설명\n",
    "정수 num과 n이 매개 변수로 주어질 때, num이 n의 배수이면 1을 return n의 배수가 아니라면 0을 return하도록 solution 함수를 완성해주세요.\n",
    "#### 제한사항\n",
    "- 2 ≤ num ≤ 100\n",
    "- 2 ≤ n ≤ 9\n"
   ]
  },
  {
   "cell_type": "code",
   "execution_count": 4,
   "id": "af638130",
   "metadata": {
    "ExecuteTime": {
     "end_time": "2024-03-02T14:25:14.216463Z",
     "start_time": "2024-03-02T14:25:14.212211Z"
    }
   },
   "outputs": [],
   "source": [
    "def solution(num, n):\n",
    "    return 1 if num%n == 0 else 0"
   ]
  },
  {
   "cell_type": "markdown",
   "id": "eda3873d",
   "metadata": {},
   "source": [
    "### 카운트 업\n",
    "반복문\n",
    "#### 문제 설명\n",
    "정수 start_num와 end_num가 주어질 때, start_num부터 end_num까지의 숫자를 차례로 담은 리스트를 return하도록 solution 함수를 완성해주세요.\n",
    "#### 제한사항\n",
    "- 0 ≤ start_num ≤ end_num ≤ 50"
   ]
  },
  {
   "cell_type": "code",
   "execution_count": 5,
   "id": "48ad5803",
   "metadata": {
    "ExecuteTime": {
     "end_time": "2024-03-02T14:25:14.220815Z",
     "start_time": "2024-03-02T14:25:14.217467Z"
    }
   },
   "outputs": [],
   "source": [
    "def solution(start_num, end_num):\n",
    "    return list(range(start_num,end_num+1))"
   ]
  },
  {
   "cell_type": "markdown",
   "id": "7e174304",
   "metadata": {},
   "source": [
    "### 문자열을 정수로 변환하기\n",
    "함수(메서드)\n",
    "#### 문제 설명\n",
    "숫자로만 이루어진 문자열 n_str이 주어질 때, n_str을 정수로 변환하여 return하도록 solution 함수를 완성해주세요.\n",
    "#### 제한사항\n",
    "- 1 ≤ n_str ≤ 5\n",
    "- n_str은 0부터 9까지의 정수 문자로만 이루어져 있습니다"
   ]
  },
  {
   "cell_type": "code",
   "execution_count": 6,
   "id": "c0224b9c",
   "metadata": {
    "ExecuteTime": {
     "end_time": "2024-03-02T14:25:14.225413Z",
     "start_time": "2024-03-02T14:25:14.221820Z"
    }
   },
   "outputs": [],
   "source": [
    "def solution(n_str):\n",
    "    return int(n_str) "
   ]
  },
  {
   "cell_type": "markdown",
   "id": "0ae6a5b8",
   "metadata": {},
   "source": [
    "### n보다 커질 때까지 더하기\n",
    "리스트(배열)\n",
    "#### 문제 설명\n",
    "정수 배열 numbers와 정수 n이 매개변수로 주어집니다. numbers의 원소를 앞에서부터 하나씩 더하다가 그 합이 n보다 커지는 순간 이때까지 더했던 원소들의 합을 return 하는 solution 함수를 작성해 주세요.\n",
    "#### 제한사항\n",
    "- 1 ≤ numbers의 길이 ≤ 100\n",
    "- 1 ≤ numbers의 원소 ≤ 100\n",
    "- 0 ≤ n < numbers의 모든 원소의 합"
   ]
  },
  {
   "cell_type": "code",
   "execution_count": 7,
   "id": "3b390a97",
   "metadata": {
    "ExecuteTime": {
     "end_time": "2024-03-02T14:25:14.229708Z",
     "start_time": "2024-03-02T14:25:14.226419Z"
    }
   },
   "outputs": [],
   "source": [
    "def solution(numbers, n):\n",
    "    answer = 0\n",
    "    \n",
    "    for i in numbers:\n",
    "        answer += i\n",
    "        \n",
    "        if(answer > n):\n",
    "            break\n",
    "            \n",
    "    return answer"
   ]
  },
  {
   "cell_type": "markdown",
   "id": "0ecd3bfb",
   "metadata": {},
   "source": [
    "### 더 크게 합치기\n",
    "연산\n",
    "#### 문제 설명\n",
    "연산 ⊕는 두 정수에 대한 연산으로 두 정수를 붙여서 쓴 값을 반환합니다. 예를 들면 다음과 같습니다.\n",
    "\n",
    "12 ⊕ 3 = 123\n",
    "\n",
    "3 ⊕ 12 = 312\n",
    "\n",
    "양의 정수 a와 b가 주어졌을 때, a ⊕ b와 b ⊕ a 중 더 큰 값을 return 하는 solution 함수를 완성해 주세요.\n",
    "\n",
    "단, a ⊕ b와 b ⊕ a가 같다면 a ⊕ b를 return 합니다.\n",
    "\n",
    "#### 제한사항\n",
    "- 1 ≤ a, b < 10,000\n",
    "\n",
    "\n"
   ]
  },
  {
   "cell_type": "code",
   "execution_count": 8,
   "id": "39eea760",
   "metadata": {
    "ExecuteTime": {
     "end_time": "2024-03-02T14:25:14.234188Z",
     "start_time": "2024-03-02T14:25:14.230716Z"
    }
   },
   "outputs": [],
   "source": [
    "def solution(a, b):\n",
    "    return max(int(str(a)+str(b)),int(str(b)+str(a)))"
   ]
  },
  {
   "cell_type": "markdown",
   "id": "fb14321e",
   "metadata": {},
   "source": [
    "### 공배수\n",
    "연산\n",
    "#### 문제 설명\n",
    "정수 number와 n, m이 주어집니다. number가 n의 배수이면서 m의 배수이면 1을 아니라면 0을 return하도록 solution 함수를 완성해주세요.\n",
    "#### 제한사항\n",
    "- 10 ≤ number ≤ 100\n",
    "- 2 ≤ n, m < 10"
   ]
  },
  {
   "cell_type": "code",
   "execution_count": 9,
   "id": "cdbeb8ba",
   "metadata": {
    "ExecuteTime": {
     "end_time": "2024-03-02T14:25:14.240146Z",
     "start_time": "2024-03-02T14:25:14.236320Z"
    }
   },
   "outputs": [],
   "source": [
    "def solution(number, n, m):\n",
    "    return int(number%n == 0 and number%m == 0)"
   ]
  },
  {
   "cell_type": "markdown",
   "id": "e48e0b3b",
   "metadata": {},
   "source": [
    "### 홀짝 구분하기\n",
    "출력\n",
    "#### 문제 설명\n",
    "자연수 n이 입력으로 주어졌을 때 만약 n이 짝수이면 \"n is even\"을, 홀수이면 \"n is odd\"를 출력하는 코드를 작성해 보세요.\n",
    "#### 제한사항\n",
    "- 1 ≤ n ≤ 1,000"
   ]
  },
  {
   "cell_type": "code",
   "execution_count": 10,
   "id": "1814559a",
   "metadata": {
    "ExecuteTime": {
     "end_time": "2024-03-02T14:25:22.856434Z",
     "start_time": "2024-03-02T14:25:14.243150Z"
    }
   },
   "outputs": [
    {
     "name": "stdout",
     "output_type": "stream",
     "text": [
      "5\n",
      "5 is odd\n"
     ]
    }
   ],
   "source": [
    "a = int(input())\n",
    "\n",
    "if(a%2 == 1):\n",
    "    print(f\"{a} is odd\")\n",
    "else:\n",
    "    print(f\"{a} is even\")"
   ]
  },
  {
   "cell_type": "markdown",
   "id": "eef67bea",
   "metadata": {},
   "source": [
    "### 소문자로 바꾸기\n",
    "문자열\n",
    "#### 문제 설명\n",
    "알파벳으로 이루어진 문자열 myString이 주어집니다. 모든 알파벳을 소문자로 변환하여 return 하는 solution 함수를 완성해 주세요.\n",
    "#### 제한사항\n",
    "- 1 ≤ myString의 길이 ≤ 100,000\n",
    "- myString은 알파벳으로 이루어진 문자열입니다."
   ]
  },
  {
   "cell_type": "code",
   "execution_count": 11,
   "id": "46be63d5",
   "metadata": {
    "ExecuteTime": {
     "end_time": "2024-03-02T14:25:22.861465Z",
     "start_time": "2024-03-02T14:25:22.857440Z"
    }
   },
   "outputs": [],
   "source": [
    "def solution(myString):\n",
    "    return myString.lower()"
   ]
  },
  {
   "cell_type": "markdown",
   "id": "0ffaa434",
   "metadata": {},
   "source": [
    "### 문자열 붙여서 출력하기\n",
    "출력\n",
    "#### 문제 설명\n",
    "두 개의 문자열 str1, str2가 공백으로 구분되어 입력으로 주어집니다.\n",
    "입출력 예와 같이 str1과 str2을 이어서 출력하는 코드를 작성해 보세요.\n",
    "#### 제한사항\n",
    "- 1 ≤ str1, str2의 길이 ≤ 10"
   ]
  },
  {
   "cell_type": "code",
   "execution_count": null,
   "id": "05e4e618",
   "metadata": {
    "ExecuteTime": {
     "start_time": "2024-03-02T14:25:14.201Z"
    }
   },
   "outputs": [],
   "source": [
    "str1, str2 = input().strip().split(' ')\n",
    "print(str1+str2)"
   ]
  },
  {
   "cell_type": "markdown",
   "id": "25383184",
   "metadata": {},
   "source": [
    "### 대문자로 바꾸기\n",
    "문자열\n",
    "#### 문제 설명\n",
    "알파벳으로 이루어진 문자열 myString이 주어집니다. 모든 알파벳을 대문자로 변환하여 return 하는 solution 함수를 완성해 주세요.\n",
    "#### 제한사항\n",
    "- 1 ≤ myString의 길이 ≤ 100,000\n",
    " - myString은 알파벳으로 이루어진 문자열입니다."
   ]
  },
  {
   "cell_type": "code",
   "execution_count": null,
   "id": "244396fe",
   "metadata": {
    "ExecuteTime": {
     "start_time": "2024-03-02T14:25:14.202Z"
    }
   },
   "outputs": [],
   "source": [
    "def solution(myString):\n",
    "    myString = myString.upper()\n",
    "    return myString"
   ]
  },
  {
   "cell_type": "markdown",
   "id": "09412be6",
   "metadata": {},
   "source": [
    "### 이어 붙인 수\n",
    "조건문\n",
    "#### 문제 설명\n",
    "정수가 담긴 리스트 num_list가 주어집니다. num_list의 홀수만 순서대로 이어 붙인 수와 짝수만 순서대로 이어 붙인 수의 합을 return하도록 solution 함수를 완성해주세요.\n",
    "#### 제한사항\n",
    "- 2 ≤ num_list의 길이 ≤ 10\n",
    "- 1 ≤ num_list의 원소 ≤ 9\n",
    "- num_list에는 적어도 한 개씩의 짝수와 홀수가 있습니다."
   ]
  },
  {
   "cell_type": "code",
   "execution_count": null,
   "id": "e85e4a1f",
   "metadata": {
    "ExecuteTime": {
     "start_time": "2024-03-02T14:25:14.203Z"
    }
   },
   "outputs": [],
   "source": [
    "def solution(num_list):\n",
    "    \n",
    "    odd = ''\n",
    "    even = ''\n",
    "    \n",
    "    for i in num_list:\n",
    "        if(i%2 == 1):\n",
    "            odd += str(i)\n",
    "        else:\n",
    "            even += str(i)\n",
    "            \n",
    "    return int(odd)+int(even)"
   ]
  },
  {
   "cell_type": "markdown",
   "id": "5569643e",
   "metadata": {},
   "source": [
    "### rny_string\n",
    "문자열\n",
    "#### 문제 설명\n",
    "'m'과 \"rn\"이 모양이 비슷하게 생긴 점을 활용해 문자열에 장난을 하려고 합니다. 문자열 rny_string이 주어질 때, rny_string의 모든 'm'을 \"rn\"으로 바꾼 문자열을 return 하는 solution 함수를 작성해 주세요.\n",
    "#### 제한사항\n",
    "- 1 ≤ rny_string의 길이 ≤ 100\n",
    "- rny_string은 영소문자로만 이루어져 있습니다."
   ]
  },
  {
   "cell_type": "code",
   "execution_count": null,
   "id": "4c04614a",
   "metadata": {
    "ExecuteTime": {
     "start_time": "2024-03-02T14:25:14.204Z"
    }
   },
   "outputs": [],
   "source": [
    "def solution(rny_string):\n",
    "    return rny_string.replace(\"m\",\"rn\")"
   ]
  },
  {
   "cell_type": "markdown",
   "id": "395d5d20",
   "metadata": {},
   "source": [
    "### 마지막 두 원소\n",
    "조건문\n",
    "#### 문제 설명\n",
    "정수 리스트 num_list가 주어질 때, 마지막 원소가 그전 원소보다 크면 마지막 원소에서 그전 원소를 뺀 값을 마지막 원소가 그전 원소보다 크지 않다면 마지막 원소를 두 배한 값을 추가하여 return하도록 solution 함수를 완성해주세요.\n",
    "#### 제한사항\n",
    "- 2 ≤ num_list의 길이 ≤ 10\n",
    "- 1 ≤ num_list의 원소 ≤ 9"
   ]
  },
  {
   "cell_type": "code",
   "execution_count": null,
   "id": "19dae265",
   "metadata": {
    "ExecuteTime": {
     "start_time": "2024-03-02T14:25:14.206Z"
    }
   },
   "outputs": [],
   "source": [
    "def solution(num_list):\n",
    "    \n",
    "    if(num_list[-1] > num_list[-2]):\n",
    "        num_list.append(num_list[-1] - num_list[-2])\n",
    "    else:\n",
    "        num_list.append(num_list[-1]*2)\n",
    "        \n",
    "    return num_list"
   ]
  },
  {
   "cell_type": "markdown",
   "id": "6d8baa85",
   "metadata": {},
   "source": [
    "### n 번째 원소부터\n",
    "리스트(배열)\n",
    "#### 문제 설명\n",
    "정수 리스트 num_list와 정수 n이 주어질 때, n 번째 원소부터 마지막 원소까지의 모든 원소를 담은 리스트를 return하도록 solution 함수를 완성해주세요.\n",
    "#### 제한사항\n",
    "- 2 ≤ num_list의 길이 ≤ 30\n",
    "- 1 ≤ num_list의 원소 ≤ 9\n",
    "- 1 ≤ n ≤ num_list의 길이\n"
   ]
  },
  {
   "cell_type": "code",
   "execution_count": null,
   "id": "312b522f",
   "metadata": {
    "ExecuteTime": {
     "start_time": "2024-03-02T14:25:14.207Z"
    }
   },
   "outputs": [],
   "source": [
    "def solution(num_list, n):\n",
    "    return num_list[n-1:]"
   ]
  },
  {
   "cell_type": "markdown",
   "id": "0e4a9c00",
   "metadata": {},
   "source": [
    "### 두 수의 연산값 비교하기\n",
    "연산\n",
    "#### 문제 설명\n",
    "연산 ⊕는 두 정수에 대한 연산으로 두 정수를 붙여서 쓴 값을 반환합니다. 예를 들면 다음과 같습니다.\n",
    "\n",
    "- 12 ⊕ 3 = 123\n",
    "- 3 ⊕ 12 = 312\n",
    "양의 정수 a와 b가 주어졌을 때, a ⊕ b와 2 * a * b 중 더 큰 값을 return하는 solution 함수를 완성해 주세요.\n",
    "\n",
    "단, a ⊕ b와 2 * a * b가 같으면 a ⊕ b를 return 합니다.\n",
    "#### 제한사항\n",
    "- 1 ≤ a, b < 10,000"
   ]
  },
  {
   "cell_type": "code",
   "execution_count": null,
   "id": "d8545d1f",
   "metadata": {
    "ExecuteTime": {
     "start_time": "2024-03-02T14:25:14.209Z"
    }
   },
   "outputs": [],
   "source": [
    "def solution(a, b):\n",
    "    \n",
    "    x = int(str(a)+str(b))\n",
    "    y = 2*a*b\n",
    "    \n",
    "    return x if x > y else y"
   ]
  },
  {
   "cell_type": "markdown",
   "id": "3950ea93",
   "metadata": {},
   "source": [
    "### 길이에 따른 연산\n",
    "리스트(배열)\n",
    "#### 문제 설명\n",
    "정수가 담긴 리스트 num_list가 주어질 때, 리스트의 길이가 11 이상이면 리스트에 있는 모든 원소의 합을 10 이하이면 모든 원소의 곱을 return하도록 solution 함수를 완성해주세요.\n",
    "#### 제한사항\n",
    "- 2 ≤ num_list의 길이 ≤ 20\n",
    "- 1 ≤ num_list의 원소 ≤ 9\n",
    "- num_list의 원소를 모두 곱했을 때 2,147,483,647를 넘는 입력은 주어지지 않습니다."
   ]
  },
  {
   "cell_type": "code",
   "execution_count": null,
   "id": "39acbd79",
   "metadata": {
    "ExecuteTime": {
     "start_time": "2024-03-02T14:25:14.210Z"
    }
   },
   "outputs": [],
   "source": [
    "def solution(num_list):\n",
    "    \n",
    "    answer = 1\n",
    "    \n",
    "    if len(num_list) >= 11:\n",
    "        answer = sum(num_list) \n",
    "        \n",
    "    else:\n",
    "        for i in num_list:\n",
    "            answer *= i\n",
    "    \n",
    "    return answer"
   ]
  },
  {
   "cell_type": "markdown",
   "id": "79d930ba",
   "metadata": {},
   "source": [
    "### 홀짝에 따라 다른 값 반환하기\n",
    "조건문\n",
    "#### 문제 설명\n",
    "양의 정수 n이 매개변수로 주어질 때, n이 홀수라면 n 이하의 홀수인 모든 양의 정수의 합을 return 하고 n이 짝수라면 n 이하의 짝수인 모든 양의 정수의 제곱의 합을 return 하는 solution 함수를 작성해 주세요.\n",
    "#### 제한사항\n",
    "- 1 ≤ n ≤ 100"
   ]
  },
  {
   "cell_type": "code",
   "execution_count": null,
   "id": "3e73ad20",
   "metadata": {
    "ExecuteTime": {
     "start_time": "2024-03-02T14:25:14.212Z"
    }
   },
   "outputs": [],
   "source": [
    "def solution(n):\n",
    "    \n",
    "    answer = 0\n",
    "    \n",
    "    # 홀수일 경우\n",
    "    if(n%2 == 1):\n",
    "        for i in range(1,n+1,2):\n",
    "            answer += i\n",
    "    # 짝수일 경우\n",
    "    else:\n",
    "        for i in range(2,n+1,2):\n",
    "            answer += (i*i)\n",
    "    \n",
    "    \n",
    "    return answer"
   ]
  }
 ],
 "metadata": {
  "kernelspec": {
   "display_name": "Python 3 (ipykernel)",
   "language": "python",
   "name": "python3"
  },
  "language_info": {
   "codemirror_mode": {
    "name": "ipython",
    "version": 3
   },
   "file_extension": ".py",
   "mimetype": "text/x-python",
   "name": "python",
   "nbconvert_exporter": "python",
   "pygments_lexer": "ipython3",
   "version": "3.11.3"
  },
  "toc": {
   "base_numbering": 1,
   "nav_menu": {},
   "number_sections": true,
   "sideBar": true,
   "skip_h1_title": false,
   "title_cell": "Table of Contents",
   "title_sidebar": "Contents",
   "toc_cell": false,
   "toc_position": {},
   "toc_section_display": true,
   "toc_window_display": true
  }
 },
 "nbformat": 4,
 "nbformat_minor": 5
}
